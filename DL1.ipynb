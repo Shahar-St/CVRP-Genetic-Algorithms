{
  "nbformat": 4,
  "nbformat_minor": 0,
  "metadata": {
    "colab": {
      "name": "DL1.ipynb",
      "provenance": [],
      "authorship_tag": "ABX9TyO24iz0hmy/xqpBZOiykImO",
      "include_colab_link": true
    },
    "kernelspec": {
      "name": "python3",
      "display_name": "Python 3"
    },
    "language_info": {
      "name": "python"
    },
    "accelerator": "GPU"
  },
  "cells": [
    {
      "cell_type": "markdown",
      "metadata": {
        "id": "view-in-github",
        "colab_type": "text"
      },
      "source": [
        "<a href=\"https://colab.research.google.com/github/Shahar-St/CVRP-Genetic-Algorithms/blob/master/DL1.ipynb\" target=\"_parent\"><img src=\"https://colab.research.google.com/assets/colab-badge.svg\" alt=\"Open In Colab\"/></a>"
      ]
    },
    {
      "cell_type": "code",
      "metadata": {
        "colab": {
          "base_uri": "https://localhost:8080/"
        },
        "id": "wWG_iuQ0I7aN",
        "outputId": "95191616-a5cb-4e1f-fb78-12984f1b53b3"
      },
      "source": [
        "!python assignment_1_code.py"
      ],
      "execution_count": null,
      "outputs": [
        {
          "output_type": "stream",
          "text": [
            "Cuda is avail\n",
            "cuda\n",
            "plot images to: /content/images\n",
            "\n",
            "Load dataset...\n",
            "train set len 60000\n",
            "test set len 10000\n",
            "split training data to 0.8 train and 0.19999999999999996 validation\n",
            "train sample len 48000\n",
            "valid sample len 12000\n",
            "\n",
            "\tTime taken: 00:00:00.04\n",
            "\n",
            "Function 2: one_hidden_layer_no_activation\n",
            "\n",
            "Initialized Model:\n",
            "MnistFashionFeedforwardNetwork(\n",
            "  (fc_layers): Sequential(\n",
            "    (0): Linear(in_features=784, out_features=4, bias=True)\n",
            "    (1): Linear(in_features=4, out_features=10, bias=True)\n",
            "  )\n",
            "  (log_softmax): LogSoftmax(dim=1)\n",
            "  (loss_function): CrossEntropyLoss()\n",
            ")\n",
            "\n",
            "Traceback (most recent call last):\n",
            "  File \"assignment_1_code.py\", line 132, in <module>\n",
            "    main()\n",
            "  File \"assignment_1_code.py\", line 39, in main\n",
            "    functions.one_hidden_layer_no_activation(number_of_neurons)\n",
            "  File \"/content/functions.py\", line 32, in one_hidden_layer_no_activation\n",
            "    model.train_model(epochs, f'{number_of_neurons} - Func2')\n",
            "  File \"/content/generic_module.py\", line 139, in train_model\n",
            "    train_acc = self.calculate_accuracy(train_set)\n",
            "  File \"/content/generic_module.py\", line 227, in calculate_accuracy\n",
            "    for data, label in dataset_loader:\n",
            "  File \"/usr/local/lib/python3.7/dist-packages/torch/utils/data/dataloader.py\", line 517, in __next__\n",
            "    data = self._next_data()\n",
            "  File \"/usr/local/lib/python3.7/dist-packages/torch/utils/data/dataloader.py\", line 557, in _next_data\n",
            "    data = self._dataset_fetcher.fetch(index)  # may raise StopIteration\n",
            "  File \"/usr/local/lib/python3.7/dist-packages/torch/utils/data/_utils/fetch.py\", line 44, in fetch\n",
            "    data = [self.dataset[idx] for idx in possibly_batched_index]\n",
            "  File \"/usr/local/lib/python3.7/dist-packages/torch/utils/data/_utils/fetch.py\", line 44, in <listcomp>\n",
            "    data = [self.dataset[idx] for idx in possibly_batched_index]\n",
            "  File \"/usr/local/lib/python3.7/dist-packages/torchvision/datasets/mnist.py\", line 112, in __getitem__\n",
            "    img = self.transform(img)\n",
            "  File \"/usr/local/lib/python3.7/dist-packages/torchvision/transforms/transforms.py\", line 60, in __call__\n",
            "    img = t(img)\n",
            "  File \"/usr/local/lib/python3.7/dist-packages/torchvision/transforms/transforms.py\", line 97, in __call__\n",
            "    return F.to_tensor(pic)\n",
            "  File \"/usr/local/lib/python3.7/dist-packages/torchvision/transforms/functional.py\", line 136, in to_tensor\n",
            "    img = torch.ByteTensor(torch.ByteStorage.from_buffer(pic.tobytes()))\n",
            "  File \"/usr/local/lib/python3.7/dist-packages/PIL/Image.py\", line 732, in tobytes\n",
            "  File \"/usr/local/lib/python3.7/dist-packages/PIL/Image.py\", line 458, in _getencoder\n",
            "    encoder = getattr(core, encoder_name + \"_encoder\")\n",
            "KeyboardInterrupt\n"
          ],
          "name": "stdout"
        }
      ]
    }
  ]
}